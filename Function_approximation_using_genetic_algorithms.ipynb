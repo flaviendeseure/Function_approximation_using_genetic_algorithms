{
  "nbformat": 4,
  "nbformat_minor": 0,
  "metadata": {
    "colab": {
      "name": "Function_approximation_using_genetic_algorithms.ipynb",
      "provenance": [],
      "collapsed_sections": []
    },
    "kernelspec": {
      "name": "python3",
      "display_name": "Python 3"
    }
  },
  "cells": [
    {
      "cell_type": "markdown",
      "metadata": {
        "id": "F_h-omr1qhvE"
      },
      "source": [
        "# Function approximation using genetic algorithms"
      ]
    },
    {
      "cell_type": "markdown",
      "metadata": {
        "id": "iHzNnzQMqJtU"
      },
      "source": [
        "## I- Initialization"
      ]
    },
    {
      "cell_type": "markdown",
      "metadata": {
        "id": "tMxuukceQeXE"
      },
      "source": [
        "### Import libraries"
      ]
    },
    {
      "cell_type": "code",
      "metadata": {
        "id": "GxpTbeFGdBv2"
      },
      "source": [
        "import random\n",
        "import numpy as np\n",
        "import pandas as pd\n",
        "import matplotlib.pyplot as plt\n",
        "\n",
        "# Performance\n",
        "import time\n",
        "from tqdm.notebook import tqdm"
      ],
      "execution_count": 4,
      "outputs": []
    },
    {
      "cell_type": "markdown",
      "metadata": {
        "id": "XdyumDFnQyYE"
      },
      "source": [
        "### Upload data\n"
      ]
    },
    {
      "cell_type": "code",
      "metadata": {
        "id": "9Jdc0TXvp0he"
      },
      "source": [
        "def upload(name):\n",
        "    \"\"\"\n",
        "    Upload the data\n",
        "\n",
        "    Parameters\n",
        "    ----------\n",
        "    name: str\n",
        "          file name (or path)\n",
        "    Returns\n",
        "    -------\n",
        "    temp: pandas.core.frame.DataFrame\n",
        "          the temperature dataframe\n",
        "    \"\"\"\n",
        "    temp = pd.read_csv(name,sep=\";\")\n",
        "    temp.rename(columns={\"#i\": \"i\"}, inplace=True)\n",
        "    return temp"
      ],
      "execution_count": 5,
      "outputs": []
    },
    {
      "cell_type": "code",
      "metadata": {
        "colab": {
          "base_uri": "https://localhost:8080/",
          "height": 143
        },
        "id": "VgNp8KPiOmx5",
        "outputId": "076133a8-21ef-4a87-9acf-f0212e34c0cf"
      },
      "source": [
        "temp = upload(r\"temperature_sample.csv\")\n",
        "temp.head(3)"
      ],
      "execution_count": 6,
      "outputs": [
        {
          "output_type": "execute_result",
          "data": {
            "text/html": [
              "<div>\n",
              "<style scoped>\n",
              "    .dataframe tbody tr th:only-of-type {\n",
              "        vertical-align: middle;\n",
              "    }\n",
              "\n",
              "    .dataframe tbody tr th {\n",
              "        vertical-align: top;\n",
              "    }\n",
              "\n",
              "    .dataframe thead th {\n",
              "        text-align: right;\n",
              "    }\n",
              "</style>\n",
              "<table border=\"1\" class=\"dataframe\">\n",
              "  <thead>\n",
              "    <tr style=\"text-align: right;\">\n",
              "      <th></th>\n",
              "      <th>i</th>\n",
              "      <th>t</th>\n",
              "    </tr>\n",
              "  </thead>\n",
              "  <tbody>\n",
              "    <tr>\n",
              "      <th>0</th>\n",
              "      <td>1.933</td>\n",
              "      <td>0.504</td>\n",
              "    </tr>\n",
              "    <tr>\n",
              "      <th>1</th>\n",
              "      <td>0.015</td>\n",
              "      <td>1.209</td>\n",
              "    </tr>\n",
              "    <tr>\n",
              "      <th>2</th>\n",
              "      <td>1.879</td>\n",
              "      <td>1.186</td>\n",
              "    </tr>\n",
              "  </tbody>\n",
              "</table>\n",
              "</div>"
            ],
            "text/plain": [
              "       i      t\n",
              "0  1.933  0.504\n",
              "1  0.015  1.209\n",
              "2  1.879  1.186"
            ]
          },
          "metadata": {},
          "execution_count": 6
        }
      ]
    },
    {
      "cell_type": "markdown",
      "metadata": {
        "id": "6SoXsfM_qTCM"
      },
      "source": [
        "## II- Class and methods"
      ]
    },
    {
      "cell_type": "markdown",
      "metadata": {
        "id": "rRK6Nwyb4EBk"
      },
      "source": [
        "### Help functions"
      ]
    },
    {
      "cell_type": "code",
      "metadata": {
        "id": "NfEYiIVEmYA-"
      },
      "source": [
        "def convert2binary(nb, max = 20):\n",
        "    \"\"\"\n",
        "    Convert a number to binary\n",
        "\n",
        "    Parameters\n",
        "    ----------\n",
        "    nb: int\n",
        "        the number to convert\n",
        "    max: int\n",
        "        the max number of bits\n",
        "    Returns\n",
        "    -------\n",
        "    binary: str\n",
        "            the binary number\n",
        "    \"\"\"\n",
        "    nb = bin(nb).split(\"b\")[1]\n",
        "    while len(nb) < len(bin(max).split(\"b\")[1]):\n",
        "      nb = \"0\" + nb\n",
        "    return nb\n",
        "\n",
        "def t(i,a,b,c):\n",
        "    \"\"\"\n",
        "    Function to calculate the temperature\n",
        "\n",
        "    Parameters\n",
        "    ----------\n",
        "    i: int\n",
        "      the time\n",
        "    a: float\n",
        "      the a coefficient\n",
        "    b: float\n",
        "      the b coefficient\n",
        "    c: float\n",
        "      the c coefficient\n",
        "    Returns\n",
        "    -------\n",
        "    t: float\n",
        "        the temperature\n",
        "    \"\"\"\n",
        "    return [np.sum([np.cos((np.pi)*k*(b**n))*(float(a)**n) for n in range(c)]) for k in i]\n",
        "\n",
        "def accuracy_method(a,b,c):\n",
        "    \"\"\"\n",
        "    Calculate the accuracy of the method\n",
        "\n",
        "    Parameters\n",
        "    ----------\n",
        "    a: float\n",
        "        the a coefficient\n",
        "    b: float\n",
        "        the b coefficient\n",
        "    c: float\n",
        "        the c coefficient\n",
        "    Returns\n",
        "    -------\n",
        "    accuracy: float \n",
        "              the accuracy\n",
        "    \"\"\"\n",
        "    return sum(np.abs(t(temp[\"i\"],a,b,c) - temp[\"t\"]))/sum(np.abs(temp[\"i\"]))*100"
      ],
      "execution_count": 10,
      "outputs": []
    },
    {
      "cell_type": "markdown",
      "metadata": {
        "id": "UWUcNCgZ4IJd"
      },
      "source": [
        "### Individual "
      ]
    },
    {
      "cell_type": "code",
      "metadata": {
        "id": "Lbja-ziadE1E"
      },
      "source": [
        "class individual:\n",
        "    \"\"\"\n",
        "    Class to create an individual\n",
        "    \"\"\"\n",
        "    def __init__(self, a=None, b=None, c=None, bin=None):\n",
        "        \"\"\"\n",
        "        Initialize the individual\n",
        "\n",
        "        Parameters\n",
        "        ----------\n",
        "        a: float\n",
        "            the a coefficient (default = None) if a is None, a random value is chosen\n",
        "        b: float\n",
        "            the b coefficient (default = None) if b is None, a random value is chosen\n",
        "        c: float\n",
        "            the c coefficient (default = None) if c is None, a random value is chosen\n",
        "        bin: str\n",
        "            the binary number (if you want to initialize the individual with a binary number)\n",
        "        \"\"\"\n",
        "        self.bin = None\n",
        "\n",
        "        if a != None and b != None and c != None:\n",
        "            self.a, self.b, self.c = a, b, c\n",
        "        elif a != None and bin != None and len(bin) == 10:\n",
        "            # Convert the binary number to decimal\n",
        "            self.a, self.bin = a, bin\n",
        "            self.b, self.c = int(bin[:5],2), int(bin[5:],2)\n",
        "        else:\n",
        "            self.a, self.b, self.c = random.uniform(0,1), random.randint(1, 21), random.randint(1, 21)      \n",
        "\n",
        "        if self.bin == None:\n",
        "            # Convert the decimal number to binary\n",
        "            self.bin = convert2binary(self.b) + convert2binary(self.c)\n",
        "        self.accuracy = self.fitness()\n",
        "        \n",
        "    def __str__(self):\n",
        "        \"\"\"\n",
        "        Print the individual\n",
        "        \"\"\"\n",
        "        return f\"[{self.a} {self.b} {self.c}]\"\n",
        "\n",
        "    def __eq__(self, autreIndividu):\n",
        "        \"\"\"\n",
        "        Compare two individuals\n",
        "        \"\"\"\n",
        "        return self.a == autreIndividu.a and self.b == autreIndividu.b and self.c == autreIndividu.c\n",
        "    \n",
        "    def fitness(self):\n",
        "        \"\"\"\n",
        "        Calculate the fitness of the individual: mean squared error\n",
        "\n",
        "        Returns\n",
        "        -------\n",
        "        fitness: float\n",
        "                  the fitness value\n",
        "        \"\"\"\n",
        "        self.accuracy = np.linalg.norm(t(np.array(temp[\"i\"]), self.a, self.b, self.c) - temp[\"t\"])\n",
        "        return self.accuracy\n",
        "\n",
        "    def display_individu(self):\n",
        "        \"\"\"\n",
        "        Display the individual\n",
        "        \"\"\"\n",
        "        plt.figure(figsize=(10, 5))\n",
        "        i = np.arange(0, 4.7, 0.0005)\n",
        "        plt.grid()\n",
        "        plt.plot(i, t(i,self.a, self.b, self.c), c=\"b\", linewidth=0.5)\n",
        "        plt.scatter(temp[\"i\"], temp[\"t\"], c='r',s=10)"
      ],
      "execution_count": 11,
      "outputs": []
    },
    {
      "cell_type": "markdown",
      "metadata": {
        "id": "RzxVyhJK4RSw"
      },
      "source": [
        "### Selection, crossovers and mutations"
      ]
    },
    {
      "cell_type": "code",
      "metadata": {
        "id": "cx_y88Ob3iQu"
      },
      "source": [
        "def binary_mutation(parent,nb=4):\n",
        "    \"\"\"\n",
        "    Mutate the binary number of the individual\n",
        "\n",
        "    Parameters\n",
        "    ----------\n",
        "    parent: individual\n",
        "            the individual to mutate\n",
        "    nb: int\n",
        "        the number of bits to mutate\n",
        "    Returns\n",
        "    -------\n",
        "    child: individual\n",
        "           the mutated individual\n",
        "    \"\"\"\n",
        "    pm = random.uniform(0,1)\n",
        "    um = random.uniform(0,1)\n",
        "    if um < pm:\n",
        "        rank = []\n",
        "        while len(rank) < nb:\n",
        "            val = random.randint(0,len(parent))\n",
        "            while val in rank:\n",
        "                val = np.random.randint(0,len(parent))\n",
        "            rank.append(val)\n",
        "        parent_modified = \"\"\n",
        "        for i in range(len(parent)):\n",
        "            if i in rank:\n",
        "                parent_modified += \"0\" if parent[i] == \"1\" else \"1\"\n",
        "            else:\n",
        "                parent_modified += parent[i]\n",
        "        return parent_modified\n",
        "    return parent\n",
        "\n",
        "def real_mutation(parent):\n",
        "    \"\"\"\n",
        "    Mutate the real number of the individual\n",
        "\n",
        "    Parameters\n",
        "    ----------\n",
        "    parent: individual\n",
        "            the individual to mutate  \n",
        "    Returns\n",
        "    ------- \n",
        "    child: individual\n",
        "            the mutated individual\n",
        "    \"\"\"\n",
        "    mutation_prob=random.randint(0,10)\n",
        "    if mutation_prob < 3:\n",
        "        vary = 1 + random.uniform(-0.05, 0.05)\n",
        "        rem = parent*vary\n",
        "        if abs(rem) <= 10:\n",
        "            parent = rem\n",
        "    return parent\n",
        "\n",
        "def binary_crossover(parent1,parent2):\n",
        "    \"\"\"\n",
        "    Crossover the binary number of the individuals\n",
        "    \n",
        "    Parameters\n",
        "    ----------\n",
        "    parent1: individual\n",
        "              the first individual to crossover\n",
        "    parent2: individual\n",
        "              the second individual to crossover\n",
        "    Returns\n",
        "    -------\n",
        "    child1: individual  \n",
        "            the first child of the crossover\n",
        "    child2: individual\n",
        "            the second child of the crossover\n",
        "    \"\"\"\n",
        "    p1 = random.randint(0, 10)\n",
        "    p2 = random.randint(0, 10)\n",
        "    while p2 == p1:\n",
        "        p2 = random.randint(0, 10)\n",
        "    p1,p2 = min(p1,p2),max(p1,p2)\n",
        "    child1 = parent1[0:p1]+parent2[p1:p2+1]+parent1[p2+1:10]\n",
        "    child2 = parent2[0:p1]+parent1[p1:p2+1]+parent2[p2+1:10]\n",
        "    return child1, child2\n",
        "\n",
        "def real_crossover(parent1,parent2,eta=2): \n",
        "  \"\"\"\n",
        "  Crossover between two real numbers based on simulated binary crossover (SBX)\n",
        "  eta = 2 => more variation between parents\n",
        "  eta = 5 => less variation between parents\n",
        "\n",
        "  Parameters \n",
        "  ----------\n",
        "  parent1: float\n",
        "           the first parent\n",
        "  parent2: float\n",
        "           the second parent\n",
        "  eta: float\n",
        "       the crossover rate (default = 2)\n",
        "       Returns\n",
        "       -------\n",
        "       child1: float\n",
        "       \"\"\"\n",
        "  u = random.uniform(0,1)\n",
        "  beta = (2*u)**(1/(eta+1)) if u<=0.5 else (1/(2*(1-u)))**(1/(eta+1))\n",
        "  child1 = 0.5*((1+beta)*parent1 + (1-beta)*parent2)\n",
        "  child2 = 0.5*((1-beta)*parent1 + (1+beta)*parent2)\n",
        "  return child1, child2"
      ],
      "execution_count": 12,
      "outputs": []
    },
    {
      "cell_type": "code",
      "metadata": {
        "id": "RFuYGXjH0egr"
      },
      "source": [
        "def generate_pop(count):\n",
        "    \"\"\"\n",
        "    Generate a population of individuals\n",
        "    \n",
        "    Parameters\n",
        "    ----------\n",
        "    count: int\n",
        "           the number of individuals to generate\n",
        "    Returns\n",
        "    -------\n",
        "    population: list\n",
        "                the generated population \n",
        "    \"\"\"\n",
        "    return [individual() for i in range(count)]\n",
        "\n",
        "def evaluate(pop):\n",
        "    \"\"\" \n",
        "    Evaluate the population with the fitness function\n",
        "\n",
        "    Parameters\n",
        "    ----------\n",
        "    pop: list\n",
        "          the population to evaluate\n",
        "    Returns\n",
        "    -------\n",
        "    pop: list \n",
        "        the evaluated population sorted by fitness value\n",
        "    \"\"\"\n",
        "    return sorted(pop, key=individual.fitness)\n",
        "\n",
        "def selection(pop, hcount, lcount):\n",
        "    \"\"\"\n",
        "    Select the best and worst individuals from the population\n",
        "    In fact, elitism is not the best way to do selection.\n",
        "    I combined the best and worst individuals to create a new population and avoid the elitism.\n",
        "\n",
        "    Parameters\n",
        "    ----------\n",
        "    pop: list\n",
        "          the population to select from\n",
        "    hcount: int\n",
        "            the number of best individuals to select\n",
        "    lcount: int\n",
        "            the number of worst individuals to select\n",
        "    Returns\n",
        "    -------\n",
        "    pop: list\n",
        "        the selected population\n",
        "    \"\"\"\n",
        "    return pop[:hcount] + pop[-lcount:]\n",
        "\n",
        "def crossover(parent1, parent2):\n",
        "    \"\"\"\n",
        "    Crossover between two individuals\n",
        "    Combined the crossover of binary and real numbers\n",
        "\n",
        "    Parameters\n",
        "    ----------\n",
        "    parent1: individual\n",
        "              the first parent\n",
        "    parent2: individual \n",
        "              the second parent\n",
        "    Returns\n",
        "    -------\n",
        "    children: list\n",
        "                the list of children\n",
        "    \"\"\"\n",
        "    e1_a, e2_a = real_crossover(parent1.a, parent2.a)  \n",
        "    e1_binaire, e2_binaire = binary_crossover(parent1.bin, parent2.bin)\n",
        "    children = [individual(a = e1_a, bin = e1_binaire), individual(a = e2_a, bin = e2_binaire)]\n",
        "    return children\n",
        "\n",
        "def mutation(parent):\n",
        "    \"\"\"\n",
        "    Mutate the individual\n",
        "    Combined the mutation of binary and real numbers\n",
        "\n",
        "    Parameters\n",
        "    ----------\n",
        "    parent: individual\n",
        "            the individual to mutate\n",
        "    Returns\n",
        "    -------\n",
        "    child: individual\n",
        "           the mutated individual\n",
        "    \"\"\"\n",
        "    child = individual(a = real_mutation(parent.a), bin = binary_mutation(parent.bin))\n",
        "    return child"
      ],
      "execution_count": 13,
      "outputs": []
    },
    {
      "cell_type": "markdown",
      "metadata": {
        "id": "_8zJVfggqasj"
      },
      "source": [
        "## III- Main loop"
      ]
    },
    {
      "cell_type": "code",
      "metadata": {
        "id": "IS-BTplQ1p6K"
      },
      "source": [
        "def genetic_algorithm(threshold, pop_size, repartition=[10/30,4/30]):\n",
        "    \"\"\"\n",
        "    The main algorithm of the genetic algorithm\n",
        "    Parameters\n",
        "    ----------\n",
        "    threshold: float\n",
        "                the threshold of fitness (MSE) value to reach\n",
        "    pop_size: int\n",
        "              the population size\n",
        "    repartition: list\n",
        "                  the repartition of the best and worst individuals\n",
        "    Returns\n",
        "    -------\n",
        "    best_individual: individual\n",
        "                      the best individual found\n",
        "    \"\"\"\n",
        "    pop = generate_pop(pop_size)\n",
        "    nbriteration=0\n",
        "    history = []\n",
        "    solution_trouvee = False\n",
        "    while not solution_trouvee:\n",
        "        nbriteration+=1\n",
        "\n",
        "        evaluation = evaluate(pop)\n",
        "        history.append(evaluation[0].accuracy)\n",
        "\n",
        "        if evaluation[0].accuracy < threshold:\n",
        "            solution_trouvee = True\n",
        "\n",
        "        print(\"\\riteration numéro :\", nbriteration, \"- Fitness:\", evaluation[0].accuracy, end=\"\")\n",
        "\n",
        "        select = selection(evaluation, int(repartition[0] * pop_size), int(repartition[1] * pop_size))\n",
        "        croises = []\n",
        "        for i in range(0, len(select)//2):\n",
        "            croises += crossover(random.choice(select),random.choice(select))\n",
        "        mutes = []\n",
        "        for i in range(len(select)):\n",
        "            mutes.append(mutation(select[i]))\n",
        "        newalea = generate_pop(pop_size - int(repartition[0]*pop_size) - int(repartition[1]*pop_size))\n",
        "\n",
        "        pop=select[:]+croises[:]+mutes[:]+newalea[:]\n",
        "\n",
        "    evaluation = evaluate(pop)\n",
        "    best_ind = evaluation[0]\n",
        "    return history, best_ind, nbriteration"
      ],
      "execution_count": 14,
      "outputs": []
    },
    {
      "cell_type": "markdown",
      "metadata": {
        "id": "kp9qmqdK4jf8"
      },
      "source": [
        "## IV- Results "
      ]
    },
    {
      "cell_type": "code",
      "metadata": {
        "colab": {
          "base_uri": "https://localhost:8080/",
          "height": 317
        },
        "id": "PqhmqGjO2DAY",
        "outputId": "2e3372cc-68c8-40a3-ae20-74522aa79d05"
      },
      "source": [
        "debut = time.process_time()\n",
        "history, best_ind, nb_iter= genetic_algorithm(0.1813,100)\n",
        "diff = time.process_time()-debut\n",
        "\n",
        "print(f\"{round(diff,5)} seconds - {nb_iter} itérations\")\n",
        "print(best_ind.a, best_ind.b, best_ind.c, best_ind.accuracy)\n",
        "print(accuracy_method(best_ind.a, best_ind.b, best_ind.c))\n",
        "\n",
        "plt.plot(history)\n",
        "plt.show()"
      ],
      "execution_count": 15,
      "outputs": [
        {
          "output_type": "stream",
          "name": "stdout",
          "text": [
            "iteration numéro : 11 - Fitness: 0.181266787099438725.77875 seconds - 11 itérations\n",
            "0.34160174945401184 15 3 0.18126678709943872\n",
            "4.107131818292112\n"
          ]
        },
        {
          "output_type": "display_data",
          "data": {
            "image/png": "[encoded data removed]",
            "text/plain": [
              "<Figure size 432x288 with 1 Axes>"
            ]
          },
          "metadata": {
            "needs_background": "light"
          }
        }
      ]
    },
    {
      "cell_type": "markdown",
      "metadata": {
        "id": "YkoP1onlhR-n"
      },
      "source": [
        "## V- Stats of the algorithm"
      ]
    },
    {
      "cell_type": "code",
      "metadata": {
        "colab": {
          "base_uri": "https://localhost:8080/",
          "height": 856
        },
        "id": "yHzqKvxmhcRv",
        "outputId": "0c04b12b-180d-4789-db98-8d19133455c9"
      },
      "source": [
        "val = []\n",
        "for i in range(10):\n",
        "  debut = time.process_time()\n",
        "  history, best_ind, nb_iter= genetic_algorithm(0.1813,30)\n",
        "  diff = time.process_time()-debut\n",
        "\n",
        "  print(f\"{round(diff,5)} seconds - {nb_iter} iterations\")\n",
        "  print(best_ind.a, best_ind.b, best_ind.c, best_ind.accuracy)\n",
        "  print(accuracy_method(best_ind.a, best_ind.b, best_ind.c))\n",
        "  val.append(diff)\n",
        "print(val)\n",
        "print(np.mean(val))\n",
        "plt.boxplot(val)\n",
        "plt.title(\"Execution time\") \n",
        "plt.show()"
      ],
      "execution_count": 19,
      "outputs": [
        {
          "output_type": "stream",
          "name": "stdout",
          "text": [
            "iteration numéro : 14 - Fitness: 0.181280300855203642.06229 seconds - 14 iterations\n",
            "0.34110343340928606 15 3 0.18127283866391258\n",
            "4.10797114472576\n",
            "iteration numéro : 38 - Fitness: 0.181268923634312436.11695 seconds - 38 iterations\n",
            "0.3412670124420692 15 3 0.18126892363431243\n",
            "4.107696235794025\n",
            "iteration numéro : 670 - Fitness: 0.18127898598126382108.05441 seconds - 670 iterations\n",
            "0.34203473414009666 15 3 0.18127574119923248\n",
            "4.106398028541289\n",
            "iteration numéro : 304 - Fitness: 0.1812750136001254350.46004 seconds - 304 iterations\n",
            "0.34124202482952964 15 3 0.18126939975060619\n",
            "4.107738268340406\n",
            "iteration numéro : 78 - Fitness: 0.1812673168563913613.542 seconds - 78 iterations\n",
            "0.34166962309197063 15 3 0.18126731685639136\n",
            "4.107017067886586\n",
            "iteration numéro : 83 - Fitness: 0.1812670306110985613.33485 seconds - 83 iterations\n",
            "0.3414117937086637 15 3 0.18126703061109856\n",
            "4.1074524196527245\n",
            "iteration numéro : 540 - Fitness: 0.1812674498483646388.47386 seconds - 540 iterations\n",
            "0.34168212413686994 15 3 0.18126744984836463\n",
            "4.106995921805292\n",
            "iteration numéro : 95 - Fitness: 0.1812827311989815614.90998 seconds - 95 iterations\n",
            "0.34084773917720707 15 3 0.18128273119898156\n",
            "4.108399664274023\n",
            "iteration numéro : 64 - Fitness: 0.1812768684035543411.5193 seconds - 64 iterations\n",
            "0.3409844847481024 15 3 0.18127686840355434\n",
            "4.108170673148132\n",
            "iteration numéro : 142 - Fitness: 0.1812720505515070523.60539 seconds - 142 iterations\n",
            "0.34113086862394504 15 3 0.18127205055150705\n",
            "4.1079250791446436\n",
            "[2.062286567000001, 6.11694806600002, 108.05440597899997, 50.46003613200003, 13.541998094000064, 13.3348512419999, 88.47385691700003, 14.909979293999982, 11.519299207000017, 23.605386630999988]\n",
            "33.2079048129\n"
          ]
        },
        {
          "output_type": "display_data",
          "data": {
            "image/png": "[encoded data removed]",
            "text/plain": [
              "<Figure size 432x288 with 1 Axes>"
            ]
          },
          "metadata": {
            "needs_background": "light"
          }
        }
      ]
    },
    {
      "cell_type": "markdown",
      "metadata": {
        "id": "O3MZgSwaqEZk"
      },
      "source": [
        "## VI- Export predictions"
      ]
    },
    {
      "cell_type": "code",
      "metadata": {
        "id": "wTvg6Yo_Xuwz"
      },
      "source": [
        "def generate_download_file(a,b,c):\n",
        "    \"\"\"\n",
        "    Generate a csv file to download that contains the predictions\n",
        "    \"\"\"\n",
        "    with open(\"flavien_deseure--charron.txt\",\"w\") as file:\n",
        "        file.write(f\"{a};{b};{c}\")"
      ],
      "execution_count": null,
      "outputs": []
    },
    {
      "cell_type": "code",
      "metadata": {
        "id": "KCEYnp2VqDw0"
      },
      "source": [
        "generate_download_file(best_ind.a, best_ind.b, best_ind.c)"
      ],
      "execution_count": null,
      "outputs": []
    }
  ]
}